{
 "cells": [
  {
   "cell_type": "code",
   "execution_count": null,
   "id": "9996e371-f204-42c2-bbd1-f2db07add0a2",
   "metadata": {},
   "outputs": [],
   "source": [
    "import glob\n",
    "import numpy as np\n",
    "from PIL import Image\n",
    "import os\n",
    "from transformers import pipeline\n",
    "import pandas as pd\n",
    "import requests\n",
    "import tqdm\n",
    "import torch\n",
    "from torchvision.transforms.functional import to_tensor"
   ]
  },
  {
   "cell_type": "code",
   "execution_count": null,
   "id": "f4081a5a-2338-43d0-a958-193252038bad",
   "metadata": {},
   "outputs": [],
   "source": [
    "df = pd.read_parquet(\"dataset_paths.parquet\")\n",
    "paths = list(df[\"LOCAL_PATH\"])\n",
    "df[\"LABEL\"] = len(df)*[\"blah\"]\n",
    "df[\"SCORES_SUM\"] = len(df)*[0.0]"
   ]
  },
  {
   "cell_type": "code",
   "execution_count": null,
   "id": "aca3421f-e61f-4d3c-9559-300b296b3b79",
   "metadata": {},
   "outputs": [],
   "source": []
  },
  {
   "cell_type": "code",
   "execution_count": null,
   "id": "d9d66ef0-7ce1-4108-b854-765a64ea40cf",
   "metadata": {},
   "outputs": [],
   "source": []
  },
  {
   "cell_type": "code",
   "execution_count": null,
   "id": "c29a7578-12f6-43f2-954d-9a521513115b",
   "metadata": {},
   "outputs": [],
   "source": [
    "# Food 1 True\n",
    "# Not Food 0 False\n",
    "i = 0\n",
    "number_of_skipped = 0\n",
    "classifier = pipeline(\"image-classification\", model=\"nateraw/food\")\n",
    "for path in tqdm.tqdm(paths):\n",
    "    \n",
    "    try:\n",
    "        image = Image.open(path).convert(\"RGB\")\n",
    "        output = classifier(image)\n",
    "    except:\n",
    "        i += 1\n",
    "        number_of_skipped += 1\n",
    "        continue\n",
    "    \n",
    "    score_sum = sum([o[\"score\"] for o in output])\n",
    "    df[\"LABEL\"][i] = str(not (score_sum <= 0.3))\n",
    "    df[\"SCORES_SUM\"][i] = score_sum\n",
    "    \n",
    "    i += 1\n",
    "    \n",
    "    if i % 1000 == 0:\n",
    "        df.to_parquet(\"dataset_paths_annotated.parquet\")\n",
    "    # break"
   ]
  },
  {
   "cell_type": "code",
   "execution_count": null,
   "id": "8d5300f9-7c29-4e21-9f34-740a9370e53e",
   "metadata": {},
   "outputs": [],
   "source": [
    "df.to_parquet(\"dataset_paths_annotated.parquet\")"
   ]
  },
  {
   "cell_type": "code",
   "execution_count": null,
   "id": "4caea93e-a6db-4ac1-bacd-f6d3ad210998",
   "metadata": {},
   "outputs": [],
   "source": []
  },
  {
   "cell_type": "code",
   "execution_count": null,
   "id": "55791cef-25cd-4106-af8c-beacdb163df6",
   "metadata": {},
   "outputs": [],
   "source": [
    "df"
   ]
  },
  {
   "cell_type": "code",
   "execution_count": null,
   "id": "9c24711d-f5a4-4d91-8512-144e083512f7",
   "metadata": {},
   "outputs": [],
   "source": []
  },
  {
   "cell_type": "code",
   "execution_count": null,
   "id": "94be5d39-62ac-4a7d-ada9-8c28d2a9c774",
   "metadata": {},
   "outputs": [],
   "source": []
  },
  {
   "cell_type": "code",
   "execution_count": null,
   "id": "31b40373-1cad-4260-b1b2-858fae516ee0",
   "metadata": {},
   "outputs": [],
   "source": []
  },
  {
   "cell_type": "code",
   "execution_count": null,
   "id": "0ad5803d-bb4d-4802-8050-378cd2857671",
   "metadata": {},
   "outputs": [],
   "source": []
  }
 ],
 "metadata": {
  "kernelspec": {
   "display_name": "Python 3 (ipykernel)",
   "language": "python",
   "name": "python3"
  },
  "language_info": {
   "codemirror_mode": {
    "name": "ipython",
    "version": 3
   },
   "file_extension": ".py",
   "mimetype": "text/x-python",
   "name": "python",
   "nbconvert_exporter": "python",
   "pygments_lexer": "ipython3",
   "version": "3.8.10"
  }
 },
 "nbformat": 4,
 "nbformat_minor": 5
}
