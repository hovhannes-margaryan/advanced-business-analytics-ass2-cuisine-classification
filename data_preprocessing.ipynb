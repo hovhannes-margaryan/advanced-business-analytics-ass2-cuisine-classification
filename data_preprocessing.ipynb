{
 "cells": [
  {
   "cell_type": "code",
   "execution_count": 1,
   "id": "dd407e2c-4a54-410c-9442-df8c914e50d2",
   "metadata": {
    "tags": []
   },
   "outputs": [],
   "source": [
    "# import json\n",
    "# import requests\n",
    "\n",
    "# solditems = requests.get('http://seppe.net/aa/assignment2/dataset.json')\n",
    "# data = solditems.json()\n",
    "# with open('dataset.json', 'w') as f:\n",
    "#     json.dump(data, f)"
   ]
  },
  {
   "cell_type": "code",
   "execution_count": 2,
   "id": "7750bcb6-f47d-4712-87fb-2865b0e16463",
   "metadata": {
    "tags": []
   },
   "outputs": [],
   "source": [
    "import pandas as pd"
   ]
  },
  {
   "cell_type": "code",
   "execution_count": 3,
   "id": "5b4d2e42-4bcf-4dc1-b954-dc4f592843a0",
   "metadata": {
    "tags": []
   },
   "outputs": [],
   "source": [
    "def combine(row):\n",
    "    return [{image_id: row[\"CUISINES\"]} for image_id in row[\"IMAGE_IDS\"]]\n",
    "\n",
    "df = pd.read_json(\"dataset.json\")\n",
    "df = df[[\"cuisines\", \"more_details\"]]\n",
    "\n",
    "\n",
    "french = [\"modern french\", \"french contemporary\", \"french\"]\n",
    "\n",
    "df[\"cuisines\"] = df.cuisines.apply(lambda cuisines: [cuisine[\"label\"] for cuisine in cuisines])\n",
    "df[\"cuisines\"] = df[\"cuisines\"].apply(lambda cuisines: \" \".join(str(cuisine).lower() for cuisine in cuisines))\n",
    "df[\"cuisines\"] = df.apply(lambda x: \"french\" if x[\"cuisines\"] in french else x[\"cuisines\"], axis=1)\n",
    "\n",
    "df_count = df.groupby(df.cuisines, as_index=False).size().sort_values(by=[\"size\"], ascending=False)[:20]\n",
    "\n",
    "df[\"more_details\"] = df.more_details.apply(lambda images: [image[\"image_id\"] for image in images[\"full_images\"]])\n",
    "df.rename(columns={\"cuisines\": \"CUISINES\", \"more_details\": \"IMAGE_IDS\"}, inplace=True)\n",
    "\n",
    "ids_and_cuisines = [item for sublist in list(df.apply(combine, axis=1)) for item in sublist]\n",
    "\n",
    "df_images = pd.DataFrame(\n",
    "    zip([list(image.keys())[0] for image in ids_and_cuisines], \n",
    "       [list(image.values())[0] for image in ids_and_cuisines]), \n",
    "    columns=[\"IMAGE_ID\", \"CUISINES\"]\n",
    ")"
   ]
  },
  {
   "cell_type": "code",
   "execution_count": 4,
   "id": "49906753-4be2-4dd8-a805-488856df8c83",
   "metadata": {
    "tags": []
   },
   "outputs": [],
   "source": [
    "df_local_paths = pd.read_parquet(\"dataset_paths_annotated.parquet\")\n",
    "df_local_paths[\"IMAGE_ID\"] = df_local_paths.LOCAL_PATH.apply(lambda x: x.split(\"/\")[-1].split(\".\")[0])\n",
    "\n",
    "df_merged = df_local_paths.merge(df_images, on=\"IMAGE_ID\")\n",
    "df_merged_filtered = df_merged[df_merged.CUISINES.isin(list(df_count.cuisines))]\n",
    "df_merged_filtered = df_merged_filtered[df_merged_filtered.LABEL==\"True\"]\n",
    "df_merged_filtered.reset_index(drop=True, inplace=True)\n",
    "df_merged_filtered.to_parquet(\"dataset_merged.parquet\")"
   ]
  },
  {
   "cell_type": "code",
   "execution_count": 5,
   "id": "c1fc2705-881f-469d-929c-453d148682c5",
   "metadata": {
    "tags": []
   },
   "outputs": [],
   "source": [
    "# df_merged_filtered.groupby(df_merged_filtered.CUISINES, as_index=False).size().sort_values(by=[\"size\"], ascending=False)"
   ]
  },
  {
   "cell_type": "code",
   "execution_count": null,
   "id": "6c7ed8bc-a45a-46fe-a061-88b761f7ede6",
   "metadata": {
    "tags": []
   },
   "outputs": [],
   "source": []
  },
  {
   "cell_type": "code",
   "execution_count": null,
   "id": "bb1909f3-cf3b-4221-a2c1-fd3feee95350",
   "metadata": {
    "tags": []
   },
   "outputs": [],
   "source": []
  }
 ],
 "metadata": {
  "kernelspec": {
   "display_name": "iau-env",
   "language": "python",
   "name": "iau-env"
  },
  "language_info": {
   "codemirror_mode": {
    "name": "ipython",
    "version": 3
   },
   "file_extension": ".py",
   "mimetype": "text/x-python",
   "name": "python",
   "nbconvert_exporter": "python",
   "pygments_lexer": "ipython3",
   "version": "3.9.6"
  }
 },
 "nbformat": 4,
 "nbformat_minor": 5
}
